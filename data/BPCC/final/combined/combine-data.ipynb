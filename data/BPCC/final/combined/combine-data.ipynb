{
 "cells": [
  {
   "cell_type": "code",
   "execution_count": 1,
   "metadata": {},
   "outputs": [],
   "source": [
    "import pandas as pd\n",
    "import numpy as np\n",
    "\n",
    "def load_data(src_file, tgt_file):\n",
    "    src_lines = [x.strip() for x in open(src_file, 'r', encoding='utf-8')]\n",
    "    tgt_lines = [x.strip() for x in open(tgt_file, 'r', encoding='utf-8')]\n",
    "\n",
    "    df = pd.DataFrame({'src': src_lines, 'tgt': tgt_lines})\n",
    "    df = df.dropna()\n",
    "    return df\n"
   ]
  },
  {
   "cell_type": "code",
   "execution_count": 2,
   "metadata": {},
   "outputs": [
    {
     "name": "stdout",
     "output_type": "stream",
     "text": [
      "src    17309396\n",
      "tgt    17309396\n",
      "dtype: int64\n",
      "src    11607390\n",
      "tgt    11607390\n",
      "dtype: int64\n",
      "src    29410788\n",
      "tgt    29410788\n",
      "dtype: int64\n",
      "src    12327034\n",
      "tgt    12327034\n",
      "dtype: int64\n",
      "src    10218704\n",
      "tgt    10218704\n",
      "dtype: int64\n",
      "src    6887996\n",
      "tgt    6887996\n",
      "dtype: int64\n",
      "src    141824\n",
      "tgt    141824\n",
      "dtype: int64\n",
      "src    9952846\n",
      "tgt    9952846\n",
      "dtype: int64\n",
      "src    945358\n",
      "tgt    945358\n",
      "dtype: int64\n"
     ]
    }
   ],
   "source": [
    "# english_bengali\n",
    "\n",
    "english_bengali = load_data(\"/home/development/ujjwalsharma/indicMT/data/BPCC/final/en-bn/en-bn.src\",\n",
    "                            \"/home/development/ujjwalsharma/indicMT/data/BPCC/final/en-bn/en-bn.tgt\")                              \n",
    "\n",
    "\n",
    "print(english_bengali.count())\n",
    "\n",
    "# english_gujarati\n",
    "\n",
    "english_gujarati = load_data(\"/home/development/ujjwalsharma/indicMT/data/BPCC/final/en-gu/en-gu.src\",\n",
    "                            \"/home/development/ujjwalsharma/indicMT/data/BPCC/final/en-gu/en-gu.tgt\")\n",
    "\n",
    "print(english_gujarati.count())\n",
    "\n",
    "# english_hindi\n",
    "english_hindi = load_data(\"/home/development/ujjwalsharma/indicMT/data/BPCC/final/en-hi/en-hi.src\",\n",
    "                            \"/home/development/ujjwalsharma/indicMT/data/BPCC/final/en-hi/en-hi.tgt\")\n",
    "print(english_hindi.count())\n",
    "\n",
    "# english_kannada\n",
    "english_kannada = load_data(\"/home/development/ujjwalsharma/indicMT/data/BPCC/final/en-kn/en-kn.src\",\n",
    "                            \"/home/development/ujjwalsharma/indicMT/data/BPCC/final/en-kn/en-kn.tgt\")\n",
    "\n",
    "print(english_kannada.count())\n",
    "\n",
    "# english_marathi\n",
    "\n",
    "english_marathi = load_data(\"/home/development/ujjwalsharma/indicMT/data/BPCC/final/en-mr/en-mr.src\",\n",
    "                            \"/home/development/ujjwalsharma/indicMT/data/BPCC/final/en-mr/en-mr.tgt\")\n",
    "print(english_marathi.count())\n",
    "\n",
    "# english_punjabi\n",
    "\n",
    "english_punjabi = load_data(\"/home/development/ujjwalsharma/indicMT/data/BPCC/final/en-pa/en-pa.src\",\n",
    "                            \"/home/development/ujjwalsharma/indicMT/data/BPCC/final/en-pa/en-pa.tgt\")\n",
    "\n",
    "print(english_punjabi.count())\n",
    "\n",
    "# english_sanskrit\n",
    "\n",
    "english_sanskrit = load_data(\"/home/development/ujjwalsharma/indicMT/data/BPCC/final/en-sa/en-sa.src\",\n",
    "                            \"/home/development/ujjwalsharma/indicMT/data/BPCC/final/en-sa/en-sa.tgt\")\n",
    "print(english_sanskrit.count())\n",
    "\n",
    "# english_tamil\n",
    "english_tamil = load_data(\"/home/development/ujjwalsharma/indicMT/data/BPCC/final/en-ta/en-ta.src\",\n",
    "                            \"/home/development/ujjwalsharma/indicMT/data/BPCC/final/en-ta/en-ta.tgt\")\n",
    "print(english_tamil.count())\n",
    "\n",
    "# english_urdu\n",
    "english_urdu = load_data(\"/home/development/ujjwalsharma/indicMT/data/BPCC/final/en-ur/en-ur.src\",\n",
    "                            \"/home/development/ujjwalsharma/indicMT/data/BPCC/final/en-ur/en-ur.tgt\")\n",
    "\n",
    "print(english_urdu.count())\n",
    "\n"
   ]
  },
  {
   "cell_type": "code",
   "execution_count": 3,
   "metadata": {},
   "outputs": [],
   "source": [
    "final_concatenated_dataset = pd.concat([english_bengali, english_gujarati, english_hindi, english_kannada, english_marathi, english_punjabi, english_sanskrit, english_tamil, english_urdu], ignore_index=True).drop_duplicates().sample(frac=1).reset_index(drop=True)\n",
    "\n",
    "print(final_concatenated_dataset.count())"
   ]
  },
  {
   "cell_type": "code",
   "execution_count": null,
   "metadata": {},
   "outputs": [],
   "source": [
    "from tqdm import tqdm\n",
    "\n",
    "def save_df_to_file(base_path):\n",
    "    with open(base_path + \"multilingual.src\", 'w', encoding='utf-8') as src_file, \\\n",
    "         open(base_path + \"multilingual.tgt\", 'w', encoding='utf-8') as tgt_file:\n",
    "        for index, row in tqdm(final_concatenated_dataset.iterrows(), total=len(final_concatenated_dataset), desc=\"Saving to files\"):\n",
    "            src_file.write(row['src'] + \"\\n\")\n",
    "            tgt_file.write(row['tgt'] + \"\\n\")"
   ]
  }
 ],
 "metadata": {
  "kernelspec": {
   "display_name": "indicMT",
   "language": "python",
   "name": "python3"
  },
  "language_info": {
   "codemirror_mode": {
    "name": "ipython",
    "version": 3
   },
   "file_extension": ".py",
   "mimetype": "text/x-python",
   "name": "python",
   "nbconvert_exporter": "python",
   "pygments_lexer": "ipython3",
   "version": "3.9.21"
  }
 },
 "nbformat": 4,
 "nbformat_minor": 2
}
