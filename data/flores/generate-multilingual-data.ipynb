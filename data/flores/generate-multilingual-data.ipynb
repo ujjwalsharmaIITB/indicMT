{
 "cells": [
  {
   "cell_type": "code",
   "execution_count": 2,
   "metadata": {},
   "outputs": [],
   "source": [
    "from tqdm import tqdm\n",
    "\n",
    "\n",
    "languages_to_tokens = {\n",
    "    \"english\": \"<en>\",\n",
    "    \"hindi\": \"<hi>\",\n",
    "    \"marathi\": \"<mr>\",\n",
    "    \"bengali\": \"<bn>\",\n",
    "    \"gujarati\": \"<gu>\",\n",
    "    \"kannada\": \"<kn>\",\n",
    "    \"punjabi\": \"<pa>\",\n",
    "    \"sanskrit\": \"<sa>\",\n",
    "    \"tamil\": \"<ta>\",\n",
    "    \"urdu\": \"<ur>\",\n",
    "}"
   ]
  },
  {
   "cell_type": "code",
   "execution_count": 3,
   "metadata": {},
   "outputs": [],
   "source": [
    "def make_data_to_language(input_path, token):\n",
    "    lines = [token + \" \" + line.strip() for line in open(input_path, \"r\", encoding=\"utf-8\").readlines()]\n",
    "    return lines\n",
    "\n",
    "def save_data_to_file(data, output_path):\n",
    "    with open(output_path, \"w\", encoding=\"utf-8\") as f:\n",
    "        for line in data:\n",
    "            f.write(line + \"\\n\")\n"
   ]
  },
  {
   "cell_type": "code",
   "execution_count": 4,
   "metadata": {},
   "outputs": [],
   "source": [
    "# english to indic\n",
    "\n",
    "english_to_hindi = make_data_to_language(\"./english/flores.en\", languages_to_tokens[\"hindi\"])\n",
    "save_data_to_file(english_to_hindi, \"./english/flores.en.hi\")\n",
    "english_to_bengali = make_data_to_language(\"./english/flores.en\", languages_to_tokens[\"bengali\"])\n",
    "save_data_to_file(english_to_bengali, \"./english/flores.en.bn\")\n",
    "english_to_gujarati = make_data_to_language(\"./english/flores.en\", languages_to_tokens[\"gujarati\"])\n",
    "save_data_to_file(english_to_gujarati, \"./english/flores.en.gu\")\n",
    "english_to_kannada = make_data_to_language(\"./english/flores.en\", languages_to_tokens[\"kannada\"])\n",
    "save_data_to_file(english_to_kannada, \"./english/flores.en.kn\")\n",
    "english_to_punjabi = make_data_to_language(\"./english/flores.en\", languages_to_tokens[\"punjabi\"])\n",
    "save_data_to_file(english_to_punjabi, \"./english/flores.en.pa\")\n",
    "english_to_sanskrit = make_data_to_language(\"./english/flores.en\", languages_to_tokens[\"sanskrit\"])\n",
    "save_data_to_file(english_to_sanskrit, \"./english/flores.en.sa\")\n",
    "english_to_tamil = make_data_to_language(\"./english/flores.en\", languages_to_tokens[\"tamil\"])\n",
    "save_data_to_file(english_to_tamil, \"./english/flores.en.ta\")\n",
    "english_to_urdu = make_data_to_language(\"./english/flores.en\", languages_to_tokens[\"urdu\"])\n",
    "save_data_to_file(english_to_urdu, \"./english/flores.en.ur\")\n"
   ]
  },
  {
   "cell_type": "code",
   "execution_count": 5,
   "metadata": {},
   "outputs": [],
   "source": [
    "# Hindi to indic and english\n",
    "hindi_to_english = make_data_to_language(\"./hindi/flores.hi\", languages_to_tokens[\"english\"])\n",
    "save_data_to_file(hindi_to_english, \"./hindi/flores.hi.en\")\n",
    "hindi_to_bengali = make_data_to_language(\"./hindi/flores.hi\", languages_to_tokens[\"bengali\"])\n",
    "save_data_to_file(hindi_to_bengali, \"./hindi/flores.hi.bn\")\n",
    "hindi_to_gujarati = make_data_to_language(\"./hindi/flores.hi\", languages_to_tokens[\"gujarati\"])\n",
    "save_data_to_file(hindi_to_gujarati, \"./hindi/flores.hi.gu\")\n",
    "hindi_to_kannada = make_data_to_language(\"./hindi/flores.hi\", languages_to_tokens[\"kannada\"])\n",
    "save_data_to_file(hindi_to_kannada, \"./hindi/flores.hi.kn\")\n",
    "hindi_to_punjabi = make_data_to_language(\"./hindi/flores.hi\", languages_to_tokens[\"punjabi\"])\n",
    "save_data_to_file(hindi_to_punjabi, \"./hindi/flores.hi.pa\")\n",
    "hindi_to_sanskrit = make_data_to_language(\"./hindi/flores.hi\", languages_to_tokens[\"sanskrit\"])\n",
    "save_data_to_file(hindi_to_sanskrit, \"./hindi/flores.hi.sa\")\n",
    "hindi_to_tamil = make_data_to_language(\"./hindi/flores.hi\", languages_to_tokens[\"tamil\"])\n",
    "save_data_to_file(hindi_to_tamil, \"./hindi/flores.hi.ta\")\n",
    "hindi_to_urdu = make_data_to_language(\"./hindi/flores.hi\", languages_to_tokens[\"urdu\"])\n",
    "save_data_to_file(hindi_to_urdu, \"./hindi/flores.hi.ur\")\n"
   ]
  },
  {
   "cell_type": "code",
   "execution_count": 6,
   "metadata": {},
   "outputs": [],
   "source": [
    "# bengali to indic and english\n",
    "bengali_to_english = make_data_to_language(\"./bengali/flores.bn\", languages_to_tokens[\"english\"])\n",
    "save_data_to_file(bengali_to_english, \"./bengali/flores.bn.en\")\n",
    "bengali_to_hindi = make_data_to_language(\"./bengali/flores.bn\", languages_to_tokens[\"hindi\"])\n",
    "save_data_to_file(bengali_to_hindi, \"./bengali/flores.bn.hi\")\n",
    "bengali_to_gujarati = make_data_to_language(\"./bengali/flores.bn\", languages_to_tokens[\"gujarati\"])\n",
    "save_data_to_file(bengali_to_gujarati, \"./bengali/flores.bn.gu\")\n",
    "bengali_to_kannada = make_data_to_language(\"./bengali/flores.bn\", languages_to_tokens[\"kannada\"])\n",
    "save_data_to_file(bengali_to_kannada, \"./bengali/flores.bn.kn\")\n",
    "bengali_to_punjabi = make_data_to_language(\"./bengali/flores.bn\", languages_to_tokens[\"punjabi\"])\n",
    "save_data_to_file(bengali_to_punjabi, \"./bengali/flores.bn.pa\")\n",
    "bengali_to_sanskrit = make_data_to_language(\"./bengali/flores.bn\", languages_to_tokens[\"sanskrit\"])\n",
    "save_data_to_file(bengali_to_sanskrit, \"./bengali/flores.bn.sa\")\n",
    "bengali_to_tamil = make_data_to_language(\"./bengali/flores.bn\", languages_to_tokens[\"tamil\"])\n",
    "save_data_to_file(bengali_to_tamil, \"./bengali/flores.bn.ta\")\n",
    "bengali_to_urdu = make_data_to_language(\"./bengali/flores.bn\", languages_to_tokens[\"urdu\"])\n",
    "save_data_to_file(bengali_to_urdu, \"./bengali/flores.bn.ur\")\n"
   ]
  },
  {
   "cell_type": "code",
   "execution_count": 7,
   "metadata": {},
   "outputs": [],
   "source": [
    "# gujarati to indic and english\n",
    "\n",
    "gujarati_to_english = make_data_to_language(\"./gujarati/flores.gu\", languages_to_tokens[\"english\"])\n",
    "save_data_to_file(gujarati_to_english, \"./gujarati/flores.gu.en\")\n",
    "gujarati_to_hindi = make_data_to_language(\"./gujarati/flores.gu\", languages_to_tokens[\"hindi\"])\n",
    "save_data_to_file(gujarati_to_hindi, \"./gujarati/flores.gu.hi\")\n",
    "gujarati_to_bengali = make_data_to_language(\"./gujarati/flores.gu\", languages_to_tokens[\"bengali\"])\n",
    "save_data_to_file(gujarati_to_bengali, \"./gujarati/flores.gu.bn\")\n",
    "gujarati_to_kannada = make_data_to_language(\"./gujarati/flores.gu\", languages_to_tokens[\"kannada\"])\n",
    "save_data_to_file(gujarati_to_kannada, \"./gujarati/flores.gu.kn\")\n",
    "gujarati_to_punjabi = make_data_to_language(\"./gujarati/flores.gu\", languages_to_tokens[\"punjabi\"])\n",
    "save_data_to_file(gujarati_to_punjabi, \"./gujarati/flores.gu.pa\")\n",
    "gujarati_to_sanskrit = make_data_to_language(\"./gujarati/flores.gu\", languages_to_tokens[\"sanskrit\"])\n",
    "save_data_to_file(gujarati_to_sanskrit, \"./gujarati/flores.gu.sa\")\n",
    "gujarati_to_tamil = make_data_to_language(\"./gujarati/flores.gu\", languages_to_tokens[\"tamil\"])\n",
    "save_data_to_file(gujarati_to_tamil, \"./gujarati/flores.gu.ta\")\n",
    "gujarati_to_urdu = make_data_to_language(\"./gujarati/flores.gu\", languages_to_tokens[\"urdu\"])\n",
    "save_data_to_file(gujarati_to_urdu, \"./gujarati/flores.gu.ur\")\n",
    "\n",
    "\n"
   ]
  },
  {
   "cell_type": "code",
   "execution_count": null,
   "metadata": {},
   "outputs": [],
   "source": []
  }
 ],
 "metadata": {
  "kernelspec": {
   "display_name": "indicMT",
   "language": "python",
   "name": "python3"
  },
  "language_info": {
   "codemirror_mode": {
    "name": "ipython",
    "version": 3
   },
   "file_extension": ".py",
   "mimetype": "text/x-python",
   "name": "python",
   "nbconvert_exporter": "python",
   "pygments_lexer": "ipython3",
   "version": "3.9.21"
  }
 },
 "nbformat": 4,
 "nbformat_minor": 2
}
